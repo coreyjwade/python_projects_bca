{
  "nbformat": 4,
  "nbformat_minor": 0,
  "metadata": {
    "colab": {
      "name": "fractions_class.ipynb",
      "provenance": [],
      "authorship_tag": "ABX9TyPeyuZqBjNapE0FnmJAuRMG",
      "include_colab_link": true
    },
    "kernelspec": {
      "name": "python3",
      "display_name": "Python 3"
    }
  },
  "cells": [
    {
      "cell_type": "markdown",
      "metadata": {
        "id": "view-in-github",
        "colab_type": "text"
      },
      "source": [
        "<a href=\"https://colab.research.google.com/github/coreyjwade/python_projects_bca/blob/master/fractions_class.ipynb\" target=\"_parent\"><img src=\"https://colab.research.google.com/assets/colab-badge.svg\" alt=\"Open In Colab\"/></a>"
      ]
    },
    {
      "cell_type": "markdown",
      "metadata": {
        "id": "nKdyfIYIy1Vb"
      },
      "source": [
        "# This is a tutorial with all code to run the BCA fractions class in progress"
      ]
    },
    {
      "cell_type": "markdown",
      "metadata": {
        "id": "XO-hbuWwy8XW"
      },
      "source": [
        "Run the following the cell"
      ]
    },
    {
      "cell_type": "code",
      "metadata": {
        "id": "alr7dvabyyPh"
      },
      "source": [
        "#!/usr/bin/env python3\n",
        "# -*- coding: utf-8 -*-\n",
        "\"\"\"\n",
        "Created on Wed Oct  7 10:27:39 2020\n",
        "\n",
        "@author: coreywade\n",
        "\"\"\"\n",
        "\n",
        "class Fraction():\n",
        "    \n",
        "    # Initialize class with numerator and denominator\n",
        "    def __init__(self, num, den):\n",
        "        #self.num = int(num)\n",
        "        #self.den = int(den)\n",
        "        try:\n",
        "            self.num = int(num)\n",
        "            self.den = int(den)\n",
        "            assert self.den != 0, \"Denom can't be zero\"\n",
        "        except ValueError:\n",
        "            print(\"Inputs must be integers. Try again.\")\n",
        "        #except:\n",
        "        #    raise TypeError(\"Inputs must be integers\")\n",
        "        \n",
        "        #assert type(self.num) or type(self.den) == int, \"Inputs must be integers\"\n",
        "    \n",
        "    # This is what you get with print() (display fraction)\n",
        "    def GCD(self, a, b):\n",
        "        if a == 0:\n",
        "            return b\n",
        "        if b == 0:\n",
        "            return a\n",
        "        return self.GCD(b, a%b)\n",
        "    \n",
        "# call GCD to maintain self    \n",
        "    def gcd(self):\n",
        "        return self.GCD(self.num, self.den)\n",
        "\n",
        "    def reduce(self):\n",
        "        divisor = self.gcd()\n",
        "        new_num = int(self.num / divisor)\n",
        "        new_den = int(self.den / divisor)\n",
        "        new_frac = Fraction(new_num, new_den)\n",
        "        return new_frac \n",
        "\n",
        "    def __str__(self):\n",
        "        self = self.reduce()\n",
        "        if self.den == 1:\n",
        "            return f'{self.num}'\n",
        "        elif self.num == 0:\n",
        "            return f'{self.num}'\n",
        "        else:\n",
        "            return f'{self.num}/{self.den}'\n",
        "\n",
        "    \n",
        "    # This is what you get with + (adding two fractions)\n",
        "    def __add__(self, frac2):\n",
        "        new_num = self.num * frac2.den + frac2.num * self.den\n",
        "        new_den = self.den * frac2.den\n",
        "        new_frac = Fraction(new_num, new_den)\n",
        "        new_frac = new_frac.reduce()\n",
        "        return new_frac  \n",
        "\n",
        "            \n",
        "    # SAME WITHOUT THE FRACTIONS CLASS\n",
        "\n",
        "    # Add Subtraction, multiplication, and division\n",
        "    \n",
        "# Create new subclass Improper that inherits all properties from Fraction\n",
        "class Mixed(Fraction):\n",
        "    \n",
        "    def __init__(self, whole, num, den):\n",
        "        self.whole = whole\n",
        "        self.num = num\n",
        "        self.den = den\n",
        "    \n",
        "    def __str__(self):\n",
        "        return f'{self.whole} {self.num}/{self.den}'\n",
        "\n",
        "    def improper(self):\n",
        "        new_num = self.den * self.whole + self.num\n",
        "        new_den = self.den\n",
        "        return Fraction(new_num, new_den)\n",
        "\n",
        "    \n",
        "    def __add__(self, frac2):\n",
        "        return self.improper() + frac2.improper()\n",
        "        "
      ],
      "execution_count": 6,
      "outputs": []
    },
    {
      "cell_type": "markdown",
      "metadata": {
        "id": "uXAhEmySzCT7"
      },
      "source": [
        "# Try to run the following code as shown below."
      ]
    },
    {
      "cell_type": "code",
      "metadata": {
        "id": "mQJ3uUXMy-p7"
      },
      "source": [
        "# initialize fraction\n",
        "one_half = Fraction(1, 2)"
      ],
      "execution_count": 10,
      "outputs": []
    },
    {
      "cell_type": "code",
      "metadata": {
        "colab": {
          "base_uri": "https://localhost:8080/"
        },
        "id": "LgBTndnXzI3Z",
        "outputId": "f1eb5d40-765f-4500-9506-17fc03b4e075"
      },
      "source": [
        "# add fractions:\n",
        "one_half + one_half"
      ],
      "execution_count": 11,
      "outputs": [
        {
          "output_type": "execute_result",
          "data": {
            "text/plain": [
              "<__main__.Fraction at 0x7fcb028269e8>"
            ]
          },
          "metadata": {
            "tags": []
          },
          "execution_count": 11
        }
      ]
    },
    {
      "cell_type": "code",
      "metadata": {
        "colab": {
          "base_uri": "https://localhost:8080/"
        },
        "id": "fRRtF9GPzQaW",
        "outputId": "9ba39196-b23c-4cf2-8cd3-95930aab9759"
      },
      "source": [
        "# display fractions\n",
        "print(one_half)"
      ],
      "execution_count": 12,
      "outputs": [
        {
          "output_type": "stream",
          "text": [
            "1/2\n"
          ],
          "name": "stdout"
        }
      ]
    },
    {
      "cell_type": "code",
      "metadata": {
        "id": "r0hF7lyVzVtc"
      },
      "source": [
        ""
      ],
      "execution_count": 9,
      "outputs": []
    }
  ]
}