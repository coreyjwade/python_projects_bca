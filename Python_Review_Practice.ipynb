{
  "nbformat": 4,
  "nbformat_minor": 0,
  "metadata": {
    "colab": {
      "name": "Python_Review_Practice.ipynb",
      "provenance": []
    },
    "kernelspec": {
      "name": "python3",
      "display_name": "Python 3"
    }
  },
  "cells": [
    {
      "cell_type": "markdown",
      "metadata": {
        "id": "jwRdh1qsITU_"
      },
      "source": [
        "# Functions - Ints, Floats, Strings"
      ]
    },
    {
      "cell_type": "code",
      "metadata": {
        "id": "kZzU_BKxIYXF"
      },
      "source": [
        "# 1. Write a function that converts inches to feet that inlcudes labels in the output."
      ],
      "execution_count": null,
      "outputs": []
    },
    {
      "cell_type": "code",
      "metadata": {
        "id": "Rq8Iq0sKIgQ_"
      },
      "source": [
        "# 2. Write a function that takes a string as input and returns the same string with all capital letters and an exclamation at the end."
      ],
      "execution_count": null,
      "outputs": []
    },
    {
      "cell_type": "code",
      "metadata": {
        "id": "vYw8ScMqIt8A"
      },
      "source": [
        "# 3a. Write a function that returns the length, square, cube, and hypercube of a given input. Include labels.\n",
        "# 3b. Find two examples to show that the order from largest to smallest can be reversed depending on the input."
      ],
      "execution_count": null,
      "outputs": []
    },
    {
      "cell_type": "code",
      "metadata": {
        "id": "FHm4u934JcUI"
      },
      "source": [
        "# 4a. Find 10 to the 500 power using Python\n",
        "# 4b. Try to find 9.9 to the 500th power using Python"
      ],
      "execution_count": null,
      "outputs": []
    },
    {
      "cell_type": "code",
      "metadata": {
        "id": "TuQ2e3smJKk6"
      },
      "source": [
        "# 5. Write a function that divides two numbers and shows the result, including any remainder. "
      ],
      "execution_count": null,
      "outputs": []
    },
    {
      "cell_type": "markdown",
      "metadata": {
        "id": "xLw_qUCyLs9M"
      },
      "source": [
        "# Functions - Lists, Loops, Dictionaries"
      ]
    },
    {
      "cell_type": "code",
      "metadata": {
        "id": "aQcYQS0zMhBW"
      },
      "source": [
        "# 6. Display the first 33 multiples of 3."
      ],
      "execution_count": null,
      "outputs": []
    },
    {
      "cell_type": "code",
      "metadata": {
        "id": "FIvaP52HMOqW"
      },
      "source": [
        "# 7. Sum all multiples of 4 between 20 and 100."
      ],
      "execution_count": null,
      "outputs": []
    },
    {
      "cell_type": "code",
      "metadata": {
        "id": "bPB6qRwhJZ9L"
      },
      "source": [
        "# 8. Write a function that takes a list of ints and converts them to a list of floats."
      ],
      "execution_count": null,
      "outputs": []
    },
    {
      "cell_type": "code",
      "metadata": {
        "id": "K3J8hTLWL_Od"
      },
      "source": [
        "# 9. Write a function that a takes a dictionary as input with student names as keys and test scores as values. \n",
        "# Return the average test score."
      ],
      "execution_count": null,
      "outputs": []
    },
    {
      "cell_type": "code",
      "metadata": {
        "id": "I5Cb4d2EM1Bp"
      },
      "source": [
        "# 10. Write a function that prints out every index in a list."
      ],
      "execution_count": null,
      "outputs": []
    },
    {
      "cell_type": "markdown",
      "metadata": {
        "id": "TCNNfyR_NPm3"
      },
      "source": [
        "# Extra Practice"
      ]
    },
    {
      "cell_type": "code",
      "metadata": {
        "id": "mawyrd6WNPTK"
      },
      "source": [
        "# 11. Write a function that returns the factorial of a number. For example, factorial(5) should return 5 * 4 * 3 * 2 * 1."
      ],
      "execution_count": null,
      "outputs": []
    },
    {
      "cell_type": "code",
      "metadata": {
        "id": "rY2-QsISOS73"
      },
      "source": [
        "# 12. Write a function that takes a verb as input and returns a sentence."
      ],
      "execution_count": null,
      "outputs": []
    },
    {
      "cell_type": "code",
      "metadata": {
        "id": "l4rUR05POpXK"
      },
      "source": [
        "# 13. Create an empty dictionary called seconds. Add your name and age in seconds. Add 2 other people with different ages."
      ],
      "execution_count": null,
      "outputs": []
    },
    {
      "cell_type": "code",
      "metadata": {
        "id": "rptQCg5JOxZC"
      },
      "source": [
        "# 14. Write a function that finds the third length of a right triangle given the other 2."
      ],
      "execution_count": null,
      "outputs": []
    },
    {
      "cell_type": "code",
      "metadata": {
        "id": "31c-7_p1PLpI"
      },
      "source": [
        "# 15. Write a function that gives the area of a cirle. Allow the user to choose pi or a decimal approximation."
      ],
      "execution_count": null,
      "outputs": []
    },
    {
      "cell_type": "code",
      "metadata": {
        "id": "qzvCFOzBPSVE"
      },
      "source": [
        "# 16. Write a function that reverses a string."
      ],
      "execution_count": null,
      "outputs": []
    },
    {
      "cell_type": "code",
      "metadata": {
        "id": "7fDPyIbaP49o"
      },
      "source": [
        "# 17. Write a function that determines if a number is a palindrome (reads same forward and backward)."
      ],
      "execution_count": null,
      "outputs": []
    },
    {
      "cell_type": "code",
      "metadata": {
        "id": "sdre6UVNP-IE"
      },
      "source": [
        "# 18. Given two points, return the equation of the line."
      ],
      "execution_count": null,
      "outputs": []
    },
    {
      "cell_type": "code",
      "metadata": {
        "id": "s29o9k1OPeiR"
      },
      "source": [
        "# 19. Write a function that tells whether a given number is prime. If it's not prime, give it's factors."
      ],
      "execution_count": null,
      "outputs": []
    },
    {
      "cell_type": "code",
      "metadata": {
        "id": "MMLuN17DQKUL"
      },
      "source": [
        "# 20a. Play a guessing game with the user. The computer chooses a number between 0 and 100. \n",
        "# If the number is too high, or too low, let the user know.\n",
        "\n",
        "# 20b. Play a guessing game with the computer. You choose a number beteen 0 and 100.\n",
        "# Allow the computer to guess. Let the computer know if it's too high or low. Provide a strategy so the computer can win."
      ],
      "execution_count": null,
      "outputs": []
    }
  ]
}